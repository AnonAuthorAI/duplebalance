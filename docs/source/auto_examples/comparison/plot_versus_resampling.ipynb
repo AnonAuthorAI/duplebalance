{
  "cells": [
    {
      "cell_type": "code",
      "execution_count": null,
      "metadata": {
        "collapsed": false
      },
      "outputs": [],
      "source": [
        "%matplotlib inline"
      ]
    },
    {
      "cell_type": "markdown",
      "metadata": {},
      "source": [
        "\n# Compare DuBE with resampling-based IL methods (5 classes)\n\nIn this example, we compare the :class:`duplebalance.DupleBalanceClassifier` \nand other resampling-based class-imbalanced learning methods.\n"
      ]
    },
    {
      "cell_type": "code",
      "execution_count": null,
      "metadata": {
        "collapsed": false
      },
      "outputs": [],
      "source": [
        "print(__doc__)\n\nRANDOM_STATE = 42"
      ]
    },
    {
      "cell_type": "markdown",
      "metadata": {},
      "source": [
        "## Preparation\nFirst, we will import necessary packages and generate an example\nmulti-class imbalanced dataset.\n\n"
      ]
    },
    {
      "cell_type": "code",
      "execution_count": null,
      "metadata": {
        "collapsed": false
      },
      "outputs": [],
      "source": [
        "from duplebalance import DupleBalanceClassifier\nfrom duplebalance.baselines import ResampleClassifier\nfrom duplebalance.base import sort_dict_by_key\n\nimport pandas as pd\nfrom collections import Counter\nimport matplotlib.pyplot as plt\n\nfrom sklearn.tree import DecisionTreeClassifier\nfrom sklearn.datasets import make_classification\nfrom sklearn.model_selection import train_test_split\nfrom sklearn.metrics import roc_auc_score"
      ]
    },
    {
      "cell_type": "markdown",
      "metadata": {},
      "source": [
        "Make a 5-class imbalanced classification task\n\n"
      ]
    },
    {
      "cell_type": "code",
      "execution_count": null,
      "metadata": {
        "collapsed": false
      },
      "outputs": [],
      "source": [
        "X, y = make_classification(n_classes=5, class_sep=1, # 5-class\n    weights=[0.05, 0.05, 0.15, 0.25, 0.5], n_informative=3, n_redundant=1, flip_y=0,\n    n_features=20, n_clusters_per_class=1, n_samples=2000, random_state=0)\n\nX_train, X_test, y_train, y_test = train_test_split(X, y, test_size=0.5, random_state=42)\n\norigin_distr = sort_dict_by_key(Counter(y_train))\ntest_distr = sort_dict_by_key(Counter(y_test))\nprint('Original training dataset shape %s' % origin_distr)\nprint('Original test dataset shape %s' % test_distr)"
      ]
    },
    {
      "cell_type": "markdown",
      "metadata": {},
      "source": [
        "## Train DuBE Classifier with different ensemble size\n\n"
      ]
    },
    {
      "cell_type": "code",
      "execution_count": null,
      "metadata": {
        "collapsed": false
      },
      "outputs": [],
      "source": [
        "n_estimators_list = [1, 3, 5, 10, 20]\n\nensemble_init_kwargs = {\n    'random_state': RANDOM_STATE,\n}\n\neval_kwargs = {'average': 'macro', 'multi_class': 'ovo'}\n\nBASECLF = DecisionTreeClassifier()\n\n# Initialize results list\nall_results = []\n\nfor n_estimators in n_estimators_list:\n    # Train DuBE classifiers\n    clf = DupleBalanceClassifier(\n        base_estimator=BASECLF,\n        n_estimators=n_estimators,\n        **ensemble_init_kwargs\n    ).fit(\n        X_train, y_train,\n        resampling_target='under',\n        resampling_strategy='shem',\n        perturb_alpha=.5,\n        sample_weight=None,\n        eval_datasets={'test': (X_test, y_test)},\n        train_verbose=False,\n    )\n    y_pred_proba = clf.predict_proba(X_test)\n    score = roc_auc_score(y_test, y_pred_proba, **eval_kwargs)\n    print (\"DuBE {:<2d} | Balanced AUROC: {:.3f} | #Training Samples: {:d}\".format(\n        n_estimators, score, sum(clf.estimators_n_training_samples_)\n        ))\n    all_results.append(\n        ['DuBE', score, sum(clf.estimators_n_training_samples_)]\n    )"
      ]
    },
    {
      "cell_type": "markdown",
      "metadata": {},
      "source": [
        "Train Resampling-based IL Classifiers\n\n"
      ]
    },
    {
      "cell_type": "code",
      "execution_count": null,
      "metadata": {
        "collapsed": false
      },
      "outputs": [],
      "source": [
        "from imblearn.under_sampling import *\nfrom imblearn.over_sampling import *\n\nresamp_init_kwargs = {'random_state': 42}\n\nsamplers = {\n    'No-resampling': None,\n    'RUS': RandomUnderSampler(**resamp_init_kwargs),\n    'TomekLinks': TomekLinks(),\n    'NearMiss': NearMiss(),\n    'Condense': CondensedNearestNeighbour(**resamp_init_kwargs),\n    'ROS': RandomOverSampler(**resamp_init_kwargs),\n    'SMOTE': SMOTE(**resamp_init_kwargs),\n    'ADASYN': ADASYN(**resamp_init_kwargs),\n    'BorderSMOTE': BorderlineSMOTE(**resamp_init_kwargs),\n}\n\n# Train all resampling-based imbalanced learning methods\nfor sampler_name, sampler in samplers.items():\n    clf = ResampleClassifier(\n        base_estimator=BASECLF,\n        sampler=sampler\n    ).fit(X_train, y_train)\n    y_pred_proba = clf.predict_proba(X_test)\n    score = roc_auc_score(y_test, y_pred_proba, **eval_kwargs)\n    print (sampler_name, score, clf.n_training_samples_)\n    \n    all_results.append(\n        [sampler_name, score, clf.n_training_samples_]\n    )"
      ]
    },
    {
      "cell_type": "markdown",
      "metadata": {},
      "source": [
        "## Results Visualization\n\n"
      ]
    },
    {
      "cell_type": "code",
      "execution_count": null,
      "metadata": {
        "collapsed": false
      },
      "outputs": [],
      "source": [
        "import matplotlib.pyplot as plt\nimport seaborn as sns\nsns.set_context('talk')\n\ndef plot_results_comp(data_vis, x, y, title, figsize=(8,6)):\n    fig = plt.figure(figsize=figsize)\n    ax = sns.lineplot(\n        data=data_vis, x=x, y=y, hue='Method', style='Method',\n        markers=True, err_style='bars', linewidth=4, markersize=20, alpha=0.9\n    )\n    for position, spine in ax.spines.items():\n        spine.set_color('black')\n        spine.set_linewidth(2)\n    ax.grid(color = 'black', linestyle='-.', alpha=0.3)\n    ax.set_ylabel('AUROC (macro)')\n    ax.set_title(title)\n    ax.legend(\n        title='',\n        borderpad=0.25,\n        columnspacing=0.05,\n        borderaxespad=0.15,\n        handletextpad=0.05,\n        labelspacing=0.05,\n        handlelength=1.2,\n        )\n    return ax\n\nall_results_columns = ['Method', 'AUROC (macro)', '#Training Samples']\ndata_vis = pd.DataFrame(all_results, columns=all_results_columns)\nplot_results_comp(data_vis, x='#Training Samples', y='AUROC (macro)',\n                  title='DuBE versus Resampling Baselines')"
      ]
    }
  ],
  "metadata": {
    "kernelspec": {
      "display_name": "Python 3",
      "language": "python",
      "name": "python3"
    },
    "language_info": {
      "codemirror_mode": {
        "name": "ipython",
        "version": 3
      },
      "file_extension": ".py",
      "mimetype": "text/x-python",
      "name": "python",
      "nbconvert_exporter": "python",
      "pygments_lexer": "ipython3",
      "version": "3.8.5"
    }
  },
  "nbformat": 4,
  "nbformat_minor": 0
}