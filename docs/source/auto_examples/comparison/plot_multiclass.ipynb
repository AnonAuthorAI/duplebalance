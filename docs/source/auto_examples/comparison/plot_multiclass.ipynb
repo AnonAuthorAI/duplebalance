{
  "cells": [
    {
      "cell_type": "code",
      "execution_count": null,
      "metadata": {
        "collapsed": false
      },
      "outputs": [],
      "source": [
        "%matplotlib inline"
      ]
    },
    {
      "cell_type": "markdown",
      "metadata": {},
      "source": [
        "\n# Testing DuBE with different number of classes (3-15)\n\nIn this example, we compare the :class:`duplebalance.DupleBalanceClassifier` \nand other ensemble-based class-imbalanced learning methods on multi-class\ntasks (with number of classes varying from 3 to 15).\n"
      ]
    },
    {
      "cell_type": "code",
      "execution_count": null,
      "metadata": {
        "collapsed": false
      },
      "outputs": [],
      "source": [
        "print(__doc__)\n\nRANDOM_STATE = 42"
      ]
    },
    {
      "cell_type": "markdown",
      "metadata": {},
      "source": [
        "## Preparation\nImport necessary packages.\n\n"
      ]
    },
    {
      "cell_type": "code",
      "execution_count": null,
      "metadata": {
        "collapsed": false
      },
      "outputs": [],
      "source": [
        "from duplebalance import DupleBalanceClassifier\nfrom duplebalance.base import sort_dict_by_key\n\nimport numpy as np\nimport pandas as pd\nfrom collections import Counter\nimport matplotlib.pyplot as plt\n\nfrom sklearn.tree import DecisionTreeClassifier\nfrom sklearn.datasets import make_classification\nfrom sklearn.model_selection import train_test_split\nfrom sklearn.metrics import roc_auc_score"
      ]
    },
    {
      "cell_type": "markdown",
      "metadata": {},
      "source": [
        "## Train All Ensemble Classifier\nTrain all ensemble-based IL classifier (including DuBE) on multi-class datasets.\n\n"
      ]
    },
    {
      "cell_type": "code",
      "execution_count": null,
      "metadata": {
        "collapsed": false
      },
      "outputs": [],
      "source": [
        "from imbalanced_ensemble.ensemble import *\n\nensemble_init_kwargs = {\n    'base_estimator': DecisionTreeClassifier(),\n    'n_estimators': 10,\n    'random_state': RANDOM_STATE,\n}\ndube_fit_kwargs = {\n    'resampling_target': 'hybrid',\n    'resampling_strategy': 'shem',\n    'perturb_alpha': .5,\n}\neval_kwargs = {'average': 'macro', 'multi_class': 'ovo'}\n\nensemble_clfs = {\n    'DuBE': DupleBalanceClassifier,\n    'RusBoost': RUSBoostClassifier,\n    'OverBoost': OverBoostClassifier,\n    'SmoteBoost': SMOTEBoostClassifier,\n    'RusBoost': RUSBoostClassifier,\n    'UnderBagging': UnderBaggingClassifier,\n    'OverBagging': OverBaggingClassifier,\n    'SmoteBagging': SMOTEBaggingClassifier,\n    'Cascade': BalanceCascadeClassifier,\n    'SelfPacedEns': SelfPacedEnsembleClassifier,\n}\n\n# Initialize results list\nall_results = []\n\nfor n_class in range(3, 16):\n    \n    # Assign long-tail class weights\n    weights = np.array([np.power(.8, i) for i in range(n_class)])\n    weights /= weights.sum()\n    info = \"#Classes: {}\\nImbalance Ratio: \".format(n_class)\n    for weight in weights:\n        info += '{:.2f}/'.format(weight/weights.min())\n    print (info.rstrip('/'))\n    \n    # Generate synthetic multi-class imbalanced dataset\n    X, y = make_classification(n_classes=n_class, class_sep=1,\n        weights=weights, n_informative=4, n_redundant=1, flip_y=0,\n        n_features=20, n_clusters_per_class=1, n_samples=5000, random_state=0)\n    X_train, X_test, y_train, y_test = train_test_split(X, y, test_size=0.5, random_state=42)\n\n    for ens_name, clf_class in ensemble_clfs.items():\n        \n        # Train all ensemble classifiers\n        clf = clf_class(\n            **ensemble_init_kwargs\n        )\n        if ens_name == 'DuBE':\n            clf.fit(X_train, y_train, **dube_fit_kwargs)\n        else: clf.fit(X_train, y_train)\n        y_pred_proba = clf.predict_proba(X_test)\n        score = roc_auc_score(y_test, y_pred_proba, **eval_kwargs)\n        all_results.append([ens_name, score, n_class])\n        print (\"{:<15s} | Balanced AUROC: {:.3f}\".format(ens_name, score))"
      ]
    },
    {
      "cell_type": "markdown",
      "metadata": {},
      "source": [
        "## Results Visualization\n\n"
      ]
    },
    {
      "cell_type": "code",
      "execution_count": null,
      "metadata": {
        "collapsed": false
      },
      "outputs": [],
      "source": [
        "import matplotlib.pyplot as plt\nimport seaborn as sns\nsns.set_context('talk')\n\nall_results_columns = ['Method', 'AUROC (macro)', '#Classes']\ndata_vis = pd.DataFrame(all_results, columns=all_results_columns)\n\n\ndef plot_results_comp(data_vis, x, y, title, figsize=(8,6)):\n    fig = plt.figure(figsize=figsize)\n    ax = sns.lineplot(\n        data=data_vis, x=x, y=y, hue='Method', style='Method',\n        markers=True, err_style='bars', linewidth=4, markersize=20, alpha=0.9\n    )\n    for position, spine in ax.spines.items():\n        spine.set_color('black')\n        spine.set_linewidth(2)\n    ax.grid(color = 'black', linestyle='-.', alpha=0.3)\n    ax.set_ylabel('AUROC (macro)')\n    ax.set_title(title)\n    ax.legend(\n        title='',\n        borderpad=0.25,\n        columnspacing=0.05,\n        borderaxespad=0.15,\n        handletextpad=0.05,\n        labelspacing=0.05,\n        handlelength=1.2,\n        )\n    return ax\n\nplot_results_comp(data_vis, x='#Classes', y='AUROC (macro)',\n                  title='DuBE versus Ensemble Baselines (#Classes 3-15)')"
      ]
    }
  ],
  "metadata": {
    "kernelspec": {
      "display_name": "Python 3",
      "language": "python",
      "name": "python3"
    },
    "language_info": {
      "codemirror_mode": {
        "name": "ipython",
        "version": 3
      },
      "file_extension": ".py",
      "mimetype": "text/x-python",
      "name": "python",
      "nbconvert_exporter": "python",
      "pygments_lexer": "ipython3",
      "version": "3.8.5"
    }
  },
  "nbformat": 4,
  "nbformat_minor": 0
}