{
  "cells": [
    {
      "cell_type": "code",
      "execution_count": null,
      "metadata": {
        "collapsed": false
      },
      "outputs": [],
      "source": [
        "%matplotlib inline"
      ]
    },
    {
      "cell_type": "markdown",
      "metadata": {},
      "source": [
        "\n# Compare DuBE with ensemble-based IL methods (5 classes)\n\nIn this example, we compare the :class:`duplebalance.DupleBalanceClassifier` \nand other ensemble-based class-imbalanced learning methods.\n"
      ]
    },
    {
      "cell_type": "code",
      "execution_count": null,
      "metadata": {
        "collapsed": false
      },
      "outputs": [],
      "source": [
        "print(__doc__)\n\nRANDOM_STATE = 42"
      ]
    },
    {
      "cell_type": "markdown",
      "metadata": {},
      "source": [
        "## Preparation\nFirst, we will import necessary packages and generate an example\nmulti-class imbalanced dataset.\n\n"
      ]
    },
    {
      "cell_type": "code",
      "execution_count": null,
      "metadata": {
        "collapsed": false
      },
      "outputs": [],
      "source": [
        "from duplebalance import DupleBalanceClassifier\nfrom duplebalance.base import sort_dict_by_key\n\nimport numpy as np\nimport pandas as pd\nfrom collections import Counter\nimport matplotlib.pyplot as plt\n\nfrom sklearn.tree import DecisionTreeClassifier\nfrom sklearn.datasets import make_classification\nfrom sklearn.model_selection import train_test_split\nfrom sklearn.metrics import roc_auc_score"
      ]
    },
    {
      "cell_type": "markdown",
      "metadata": {},
      "source": [
        "Make a 5-class imbalanced classification task\n\n"
      ]
    },
    {
      "cell_type": "code",
      "execution_count": null,
      "metadata": {
        "collapsed": false
      },
      "outputs": [],
      "source": [
        "X, y = make_classification(n_classes=5, class_sep=1, # 5-class\n    weights=[0.05, 0.05, 0.15, 0.25, 0.5], n_informative=3, n_redundant=1, flip_y=0,\n    n_features=20, n_clusters_per_class=1, n_samples=2000, random_state=0)\n\nX_train, X_test, y_train, y_test = train_test_split(X, y, test_size=0.5, random_state=42)\n\norigin_distr = sort_dict_by_key(Counter(y_train))\ntest_distr = sort_dict_by_key(Counter(y_test))\nprint('Original training dataset shape %s' % origin_distr)\nprint('Original test dataset shape %s' % test_distr)"
      ]
    },
    {
      "cell_type": "markdown",
      "metadata": {},
      "source": [
        "## Train All Ensemble Classifier\nTrain all ensemble-based IL classifier (including DuBE).\n\n"
      ]
    },
    {
      "cell_type": "code",
      "execution_count": null,
      "metadata": {
        "collapsed": false
      },
      "outputs": [],
      "source": [
        "from imbalanced_ensemble.ensemble import *\n\nn_estimators_list = [1, 3, 5, 10, 20]\n\nensemble_init_kwargs = {\n    'base_estimator': DecisionTreeClassifier(),\n    'random_state': RANDOM_STATE,\n}\ndube_fit_kwargs = {\n    'resampling_target': 'under',\n    'resampling_strategy': 'shem',\n    'perturb_alpha': .5,\n}\n\neval_kwargs = {'average': 'macro', 'multi_class': 'ovo'}\n\nensemble_clfs = {\n    'DuBE': DupleBalanceClassifier,\n    'RusBoost': RUSBoostClassifier,\n    'OverBoost': OverBoostClassifier,\n    'SmoteBoost': SMOTEBoostClassifier,\n    'RusBoost': RUSBoostClassifier,\n    'UnderBagging': UnderBaggingClassifier,\n    'OverBagging': OverBaggingClassifier,\n    'SmoteBagging': SMOTEBaggingClassifier,\n    'Cascade': BalanceCascadeClassifier,\n    'SelfPacedEns': SelfPacedEnsembleClassifier,\n}\n\n# Initialize results list\nall_results = []\n\nfor ens_name, clf_class in ensemble_clfs.items():\n    for n_estimators in n_estimators_list:\n        # Train all ensemble classifiers\n        clf = clf_class(\n            n_estimators = n_estimators,\n            **ensemble_init_kwargs\n        )\n        if ens_name == 'DuBE':\n            clf.fit(X_train, y_train, **dube_fit_kwargs)\n        else: clf.fit(X_train, y_train)\n        y_pred_proba = clf.predict_proba(X_test)\n        score = roc_auc_score(y_test, y_pred_proba, **eval_kwargs)\n        print (\"{:<15s} {:<2d} | Balanced AUROC: {:.3f} | #Training Samples: {:d}\".format(\n            ens_name, n_estimators, score, sum(clf.estimators_n_training_samples_)\n            ))\n        all_results.append(\n            [ens_name, score, n_estimators, sum(clf.estimators_n_training_samples_)]\n        )"
      ]
    },
    {
      "cell_type": "markdown",
      "metadata": {},
      "source": [
        "## Results Visualization\n\n"
      ]
    },
    {
      "cell_type": "code",
      "execution_count": null,
      "metadata": {
        "collapsed": false
      },
      "outputs": [],
      "source": [
        "import matplotlib.pyplot as plt\nimport seaborn as sns\nsns.set_context('talk')\n\nall_results_columns = ['Method', 'AUROC (macro)', '#Base Learners', '#Training Samples']\ndata_vis = pd.DataFrame(all_results, columns=all_results_columns)\n\n\ndef plot_results_comp(data_vis, x, y, title, figsize=(8,6)):\n    fig = plt.figure(figsize=figsize)\n    ax = sns.lineplot(\n        data=data_vis, x=x, y=y, hue='Method', style='Method',\n        markers=True, err_style='bars', linewidth=4, markersize=20, alpha=0.9\n    )\n    for position, spine in ax.spines.items():\n        spine.set_color('black')\n        spine.set_linewidth(2)\n    ax.grid(color = 'black', linestyle='-.', alpha=0.3)\n    ax.set_ylabel('AUROC (macro)')\n    ax.set_title(title)\n    ax.legend(\n        title='',\n        borderpad=0.25,\n        columnspacing=0.05,\n        borderaxespad=0.15,\n        handletextpad=0.05,\n        labelspacing=0.05,\n        handlelength=1.2,\n        )\n    return ax\n\nplot_results_comp(data_vis, x='#Training Samples', y='AUROC (macro)',\n                  title='DuBE versus Ensemble Baselines')"
      ]
    }
  ],
  "metadata": {
    "kernelspec": {
      "display_name": "Python 3",
      "language": "python",
      "name": "python3"
    },
    "language_info": {
      "codemirror_mode": {
        "name": "ipython",
        "version": 3
      },
      "file_extension": ".py",
      "mimetype": "text/x-python",
      "name": "python",
      "nbconvert_exporter": "python",
      "pygments_lexer": "ipython3",
      "version": "3.8.5"
    }
  },
  "nbformat": 4,
  "nbformat_minor": 0
}